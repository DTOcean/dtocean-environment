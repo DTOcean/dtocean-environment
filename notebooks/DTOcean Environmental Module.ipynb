{
 "cells": [
  {
   "cell_type": "code",
   "execution_count": 23,
   "metadata": {
    "collapsed": true
   },
   "outputs": [],
   "source": [
    "%matplotlib inline"
   ]
  },
  {
   "cell_type": "markdown",
   "metadata": {},
   "source": [
    "# DTOcean Environmental Module Test - Hydrodynamics\n",
    "\n",
    "## Import Modules\n",
    "\n",
    "We need not only the environmental module but the pandas package to enter the data tables."
   ]
  },
  {
   "cell_type": "code",
   "execution_count": 24,
   "metadata": {
    "collapsed": true
   },
   "outputs": [],
   "source": [
    "from IPython.core.display import HTML"
   ]
  },
  {
   "cell_type": "code",
   "execution_count": 25,
   "metadata": {
    "collapsed": true
   },
   "outputs": [],
   "source": [
    "import matplotlib\n",
    "import matplotlib.pylab as plt\n",
    "import matplotlib.cm as cm\n",
    "matplotlib.style.use('ggplot')\n",
    "plt.rcParams['figure.figsize'] = (14.0, 8.0)"
   ]
  },
  {
   "cell_type": "code",
   "execution_count": 26,
   "metadata": {
    "collapsed": true
   },
   "outputs": [],
   "source": [
    "import os\n",
    "import sys\n",
    "import pandas as pd\n",
    "import datetime as dt\n",
    "import numpy as np"
   ]
  },
  {
   "cell_type": "code",
   "execution_count": 27,
   "metadata": {
    "collapsed": false
   },
   "outputs": [],
   "source": [
    "sys.path.append('../')"
   ]
  },
  {
   "cell_type": "code",
   "execution_count": 28,
   "metadata": {
    "collapsed": false
   },
   "outputs": [],
   "source": [
    "from dtocean_environment.impacts import *\n",
    "from dtocean_environment.main import HydroStage"
   ]
  },
  {
   "cell_type": "code",
   "execution_count": 29,
   "metadata": {
    "collapsed": true
   },
   "outputs": [],
   "source": [
    "def html_dict(x):\n",
    "    message = \"<ul>\"\n",
    "    for name, status in x.iteritems():\n",
    "        message += \"<li>{}: <b>{}</b></li>\".format(name, status)\n",
    "    message += \"</ul>\"\n",
    "    return message"
   ]
  },
  {
   "cell_type": "code",
   "execution_count": 30,
   "metadata": {
    "collapsed": true
   },
   "outputs": [],
   "source": [
    "def cmap_env(position=None, bit=True):\n",
    "    '''Colormap for the environmental package\n",
    "    '''\n",
    "    colors = [(128,0,128), (255,0,255), (255,0,0), (255,64,0), (255,128,0),\n",
    "              (255,178,102), (255,255,51), (153,255,153), (255,255,255),\n",
    "              (204,229,255), (102,178,255), (0,128,255),  (0,0,255)]\n",
    "\n",
    "    bit_rgb = np.linspace(0,1,256)\n",
    "    if position == None:\n",
    "        position = np.linspace(0,1,len(colors))\n",
    "    else:\n",
    "        if len(position) != len(colors):\n",
    "            sys.exit(\"position length must be the same as colors\")\n",
    "        elif position[0] != 0 or position[-1] != 1:\n",
    "            sys.exit(\"position must start with 0 and end with 1\")\n",
    "    if bit:\n",
    "        for i in range(len(colors)):\n",
    "            colors[i] = (bit_rgb[colors[i][0]],\n",
    "                         bit_rgb[colors[i][1]],\n",
    "                         bit_rgb[colors[i][2]])\n",
    "    cdict = {'red':[], 'green':[], 'blue':[]}\n",
    "    for pos, color in zip(position, colors):\n",
    "        cdict['red'].append((pos, color[0], color[0]))\n",
    "        cdict['green'].append((pos, color[1], color[1]))\n",
    "        cdict['blue'].append((pos, color[2], color[2]))\n",
    "    \n",
    "    cmap = matplotlib.colors.LinearSegmentedColormap('environment', cdict, 256)\n",
    "    return cmap\n"
   ]
  },
  {
   "cell_type": "code",
   "execution_count": 31,
   "metadata": {
    "collapsed": true
   },
   "outputs": [],
   "source": [
    "def plot_score(eis, title):\n",
    "\n",
    "    # Environmental impacts\n",
    "    \n",
    "    env_impacts = [\"Energy Modification\",\n",
    "                   \"Footprint\",\n",
    "                   \"Collision Risk\",\n",
    "                   \"Collision Risk Vessel\",\n",
    "                   \"Chemical Pollution\",\n",
    "                   \"Turbidity\",\n",
    "                   \"Underwater Noise\",\n",
    "                   \"Electric Fields\",\n",
    "                   \"Magnetic Fields\",\n",
    "                   \"Temperature Modification\",\n",
    "                   \"Reef Effect\",\n",
    "                   \"Reserve Effect\",\n",
    "                   \"Resting Place\"]\n",
    "    \n",
    "    value=[]\n",
    "    impact=[]\n",
    "    confidence=[]\n",
    "    \n",
    "    for key in env_impacts:\n",
    "        if key in eis_dict and eis_dict[key] is not None:\n",
    "            value.append(eis_dict[key])\n",
    "            impact.append(key)\n",
    "            confidence.append(confidence_dict[key])\n",
    "        else:\n",
    "            value.append(0)\n",
    "            impact.append(key)\n",
    "            confidence.append(0)\n",
    "\n",
    "    ## if we want to sort the values\n",
    "    ##value, impact, confidence = zip(*sorted(zip(value, impact, confidence)))\n",
    "\n",
    "    env_cmap = cmap_env()\n",
    "    norm = matplotlib.colors.Normalize(-100, 50)\n",
    "    env_color = env_cmap(norm(value))\n",
    "    \n",
    "    fig = plt.figure()\n",
    "\n",
    "    ax1 = fig.add_subplot(1,1,1)\n",
    "    x = np.arange(len(value))\n",
    "    ax1.barh(x, value, align='center', color = env_color)\n",
    "    ax1.set_xticklabels([])\n",
    "    ax1.set_yticks(x)\n",
    "    ax1.set_yticklabels(impact)\n",
    "    ax1.axvline(0, color='grey')\n",
    "\n",
    "    for i,v in zip(x, value):\n",
    "        if v < 0:\n",
    "            ax1.text(v - 4., i + 0.15 , str(int(round(v))), color = 'black', weight = 'bold')\n",
    "        elif v > 0:\n",
    "            ax1.text(v + 1., i + 0.15 , str(int(round(v))), color = 'black', weight = 'bold')\n",
    "    \n",
    "    plt.gca().invert_yaxis()\n",
    "    #plt.grid()\n",
    "    cmmapable = cm.ScalarMappable(norm, env_cmap)\n",
    "    cmmapable.set_array(range(-100, 50))\n",
    "    plt.colorbar(cmmapable, orientation='horizontal')\n",
    "    plt.xlabel('Environmental Score')\n",
    "\n",
    "    ax2 = ax1.twinx()\n",
    "    ax2.barh(x, np.zeros(len(x)), align='center')\n",
    "    ax2.yaxis.tick_right()\n",
    "    ax2.set_yticks(x)\n",
    "    ax2.set_yticklabels(confidence)\n",
    "    ax2.set_ylabel('Level of confidence')\n",
    "    \n",
    "    plt.xlim([-100,50])\n",
    "    plt.title(title)\n",
    "    \n",
    "    plt.show()"
   ]
  },
  {
   "cell_type": "code",
   "execution_count": 32,
   "metadata": {
    "collapsed": false
   },
   "outputs": [],
   "source": [
    "def plot_global(geis):\n",
    "\n",
    "    fig = plt.figure()\n",
    "\n",
    "    ax1 = fig.add_subplot(1,1,1)\n",
    "\n",
    "    plt.title('Global Score')\n",
    "    \n",
    "    plt.show()"
   ]
  },
  {
   "cell_type": "markdown",
   "metadata": {},
   "source": [
    "### Define path to data"
   ]
  },
  {
   "cell_type": "code",
   "execution_count": 33,
   "metadata": {
    "collapsed": true
   },
   "outputs": [],
   "source": [
    "data_dir = \"../dtocean_environment/data/hydrodynamics\"\n",
    "test_data_dir = \"../test_data/\""
   ]
  },
  {
   "cell_type": "markdown",
   "metadata": {},
   "source": [
    "### Define the protected species table"
   ]
  },
  {
   "cell_type": "code",
   "execution_count": 34,
   "metadata": {
    "collapsed": false
   },
   "outputs": [
    {
     "data": {
      "text/html": [
       "<div>\n",
       "<table border=\"1\" class=\"dataframe\">\n",
       "  <thead>\n",
       "    <tr style=\"text-align: right;\">\n",
       "      <th></th>\n",
       "      <th>observed</th>\n",
       "    </tr>\n",
       "    <tr>\n",
       "      <th>subclass or group</th>\n",
       "      <th></th>\n",
       "    </tr>\n",
       "  </thead>\n",
       "  <tbody>\n",
       "    <tr>\n",
       "      <th>mysticete</th>\n",
       "      <td>False</td>\n",
       "    </tr>\n",
       "    <tr>\n",
       "      <th>dolphinds</th>\n",
       "      <td>False</td>\n",
       "    </tr>\n",
       "    <tr>\n",
       "      <th>large odontoncete</th>\n",
       "      <td>False</td>\n",
       "    </tr>\n",
       "    <tr>\n",
       "      <th>odontoncete</th>\n",
       "      <td>False</td>\n",
       "    </tr>\n",
       "    <tr>\n",
       "      <th>particular habitat</th>\n",
       "      <td>False</td>\n",
       "    </tr>\n",
       "    <tr>\n",
       "      <th>fish</th>\n",
       "      <td>False</td>\n",
       "    </tr>\n",
       "  </tbody>\n",
       "</table>\n",
       "</div>"
      ],
      "text/plain": [
       "                   observed\n",
       "subclass or group          \n",
       "mysticete             False\n",
       "dolphinds             False\n",
       "large odontoncete     False\n",
       "odontoncete           False\n",
       "particular habitat    False\n",
       "fish                  False"
      ]
     },
     "execution_count": 34,
     "metadata": {},
     "output_type": "execute_result"
    }
   ],
   "source": [
    "table_path = os.path.join(test_data_dir, \"species_protected.csv\")\n",
    "protected_table = pd.read_csv(table_path, index_col=0)\n",
    "\n",
    "protected_table"
   ]
  },
  {
   "cell_type": "markdown",
   "metadata": {},
   "source": [
    "### Define the table of receptor impact data"
   ]
  },
  {
   "cell_type": "code",
   "execution_count": 35,
   "metadata": {
    "collapsed": false,
    "scrolled": false
   },
   "outputs": [
    {
     "data": {
      "text/html": [
       "<div>\n",
       "<table border=\"1\" class=\"dataframe\">\n",
       "  <thead>\n",
       "    <tr style=\"text-align: right;\">\n",
       "      <th></th>\n",
       "      <th>observed</th>\n",
       "      <th>observed january</th>\n",
       "      <th>observed february</th>\n",
       "      <th>observed march</th>\n",
       "      <th>observed april</th>\n",
       "      <th>observed may</th>\n",
       "      <th>observed june</th>\n",
       "      <th>observed july</th>\n",
       "      <th>observed august</th>\n",
       "      <th>observed september</th>\n",
       "      <th>observed october</th>\n",
       "      <th>observed november</th>\n",
       "      <th>observed december</th>\n",
       "    </tr>\n",
       "    <tr>\n",
       "      <th>subclass or group</th>\n",
       "      <th></th>\n",
       "      <th></th>\n",
       "      <th></th>\n",
       "      <th></th>\n",
       "      <th></th>\n",
       "      <th></th>\n",
       "      <th></th>\n",
       "      <th></th>\n",
       "      <th></th>\n",
       "      <th></th>\n",
       "      <th></th>\n",
       "      <th></th>\n",
       "      <th></th>\n",
       "    </tr>\n",
       "  </thead>\n",
       "  <tbody>\n",
       "    <tr>\n",
       "      <th>Hard substrate benthic habitat</th>\n",
       "      <td>False</td>\n",
       "      <td>NaN</td>\n",
       "      <td>NaN</td>\n",
       "      <td>NaN</td>\n",
       "      <td>NaN</td>\n",
       "      <td>NaN</td>\n",
       "      <td>NaN</td>\n",
       "      <td>NaN</td>\n",
       "      <td>NaN</td>\n",
       "      <td>NaN</td>\n",
       "      <td>NaN</td>\n",
       "      <td>NaN</td>\n",
       "      <td>NaN</td>\n",
       "    </tr>\n",
       "    <tr>\n",
       "      <th>Soft substrate benthic habitat</th>\n",
       "      <td>False</td>\n",
       "      <td>NaN</td>\n",
       "      <td>NaN</td>\n",
       "      <td>NaN</td>\n",
       "      <td>NaN</td>\n",
       "      <td>NaN</td>\n",
       "      <td>NaN</td>\n",
       "      <td>NaN</td>\n",
       "      <td>NaN</td>\n",
       "      <td>NaN</td>\n",
       "      <td>NaN</td>\n",
       "      <td>NaN</td>\n",
       "      <td>NaN</td>\n",
       "    </tr>\n",
       "    <tr>\n",
       "      <th>Particular habitat</th>\n",
       "      <td>False</td>\n",
       "      <td>NaN</td>\n",
       "      <td>NaN</td>\n",
       "      <td>NaN</td>\n",
       "      <td>NaN</td>\n",
       "      <td>NaN</td>\n",
       "      <td>NaN</td>\n",
       "      <td>NaN</td>\n",
       "      <td>NaN</td>\n",
       "      <td>NaN</td>\n",
       "      <td>NaN</td>\n",
       "      <td>NaN</td>\n",
       "      <td>NaN</td>\n",
       "    </tr>\n",
       "    <tr>\n",
       "      <th>Shallow diving birds</th>\n",
       "      <td>False</td>\n",
       "      <td>NaN</td>\n",
       "      <td>NaN</td>\n",
       "      <td>NaN</td>\n",
       "      <td>NaN</td>\n",
       "      <td>NaN</td>\n",
       "      <td>NaN</td>\n",
       "      <td>NaN</td>\n",
       "      <td>NaN</td>\n",
       "      <td>NaN</td>\n",
       "      <td>NaN</td>\n",
       "      <td>NaN</td>\n",
       "      <td>NaN</td>\n",
       "    </tr>\n",
       "    <tr>\n",
       "      <th>Medium diving birds</th>\n",
       "      <td>False</td>\n",
       "      <td>NaN</td>\n",
       "      <td>NaN</td>\n",
       "      <td>NaN</td>\n",
       "      <td>NaN</td>\n",
       "      <td>NaN</td>\n",
       "      <td>NaN</td>\n",
       "      <td>NaN</td>\n",
       "      <td>NaN</td>\n",
       "      <td>NaN</td>\n",
       "      <td>NaN</td>\n",
       "      <td>NaN</td>\n",
       "      <td>NaN</td>\n",
       "    </tr>\n",
       "    <tr>\n",
       "      <th>Deep diving birds</th>\n",
       "      <td>False</td>\n",
       "      <td>NaN</td>\n",
       "      <td>NaN</td>\n",
       "      <td>NaN</td>\n",
       "      <td>NaN</td>\n",
       "      <td>NaN</td>\n",
       "      <td>NaN</td>\n",
       "      <td>NaN</td>\n",
       "      <td>NaN</td>\n",
       "      <td>NaN</td>\n",
       "      <td>NaN</td>\n",
       "      <td>NaN</td>\n",
       "      <td>NaN</td>\n",
       "    </tr>\n",
       "    <tr>\n",
       "      <th>Large odontocete_Mysticete</th>\n",
       "      <td>False</td>\n",
       "      <td>NaN</td>\n",
       "      <td>NaN</td>\n",
       "      <td>NaN</td>\n",
       "      <td>NaN</td>\n",
       "      <td>NaN</td>\n",
       "      <td>NaN</td>\n",
       "      <td>NaN</td>\n",
       "      <td>NaN</td>\n",
       "      <td>NaN</td>\n",
       "      <td>NaN</td>\n",
       "      <td>NaN</td>\n",
       "      <td>NaN</td>\n",
       "    </tr>\n",
       "    <tr>\n",
       "      <th>Odontoncete_dolphinds</th>\n",
       "      <td>False</td>\n",
       "      <td>NaN</td>\n",
       "      <td>NaN</td>\n",
       "      <td>NaN</td>\n",
       "      <td>NaN</td>\n",
       "      <td>NaN</td>\n",
       "      <td>NaN</td>\n",
       "      <td>NaN</td>\n",
       "      <td>NaN</td>\n",
       "      <td>NaN</td>\n",
       "      <td>NaN</td>\n",
       "      <td>NaN</td>\n",
       "      <td>NaN</td>\n",
       "    </tr>\n",
       "    <tr>\n",
       "      <th>Seals</th>\n",
       "      <td>True</td>\n",
       "      <td>True</td>\n",
       "      <td>True</td>\n",
       "      <td>True</td>\n",
       "      <td>True</td>\n",
       "      <td>False</td>\n",
       "      <td>False</td>\n",
       "      <td>False</td>\n",
       "      <td>False</td>\n",
       "      <td>False</td>\n",
       "      <td>False</td>\n",
       "      <td>False</td>\n",
       "      <td>False</td>\n",
       "    </tr>\n",
       "    <tr>\n",
       "      <th>Fishes</th>\n",
       "      <td>False</td>\n",
       "      <td>NaN</td>\n",
       "      <td>NaN</td>\n",
       "      <td>NaN</td>\n",
       "      <td>NaN</td>\n",
       "      <td>NaN</td>\n",
       "      <td>NaN</td>\n",
       "      <td>NaN</td>\n",
       "      <td>NaN</td>\n",
       "      <td>NaN</td>\n",
       "      <td>NaN</td>\n",
       "      <td>NaN</td>\n",
       "      <td>NaN</td>\n",
       "    </tr>\n",
       "    <tr>\n",
       "      <th>Bony fishes</th>\n",
       "      <td>False</td>\n",
       "      <td>NaN</td>\n",
       "      <td>NaN</td>\n",
       "      <td>NaN</td>\n",
       "      <td>NaN</td>\n",
       "      <td>NaN</td>\n",
       "      <td>NaN</td>\n",
       "      <td>NaN</td>\n",
       "      <td>NaN</td>\n",
       "      <td>NaN</td>\n",
       "      <td>NaN</td>\n",
       "      <td>NaN</td>\n",
       "      <td>NaN</td>\n",
       "    </tr>\n",
       "    <tr>\n",
       "      <th>Magnetosensitive species</th>\n",
       "      <td>False</td>\n",
       "      <td>NaN</td>\n",
       "      <td>NaN</td>\n",
       "      <td>NaN</td>\n",
       "      <td>NaN</td>\n",
       "      <td>NaN</td>\n",
       "      <td>NaN</td>\n",
       "      <td>NaN</td>\n",
       "      <td>NaN</td>\n",
       "      <td>NaN</td>\n",
       "      <td>NaN</td>\n",
       "      <td>NaN</td>\n",
       "      <td>NaN</td>\n",
       "    </tr>\n",
       "    <tr>\n",
       "      <th>Electrosensitive species</th>\n",
       "      <td>False</td>\n",
       "      <td>NaN</td>\n",
       "      <td>NaN</td>\n",
       "      <td>NaN</td>\n",
       "      <td>NaN</td>\n",
       "      <td>NaN</td>\n",
       "      <td>NaN</td>\n",
       "      <td>NaN</td>\n",
       "      <td>NaN</td>\n",
       "      <td>NaN</td>\n",
       "      <td>NaN</td>\n",
       "      <td>NaN</td>\n",
       "      <td>NaN</td>\n",
       "    </tr>\n",
       "    <tr>\n",
       "      <th>Elasmobranchs</th>\n",
       "      <td>False</td>\n",
       "      <td>NaN</td>\n",
       "      <td>NaN</td>\n",
       "      <td>NaN</td>\n",
       "      <td>NaN</td>\n",
       "      <td>NaN</td>\n",
       "      <td>NaN</td>\n",
       "      <td>NaN</td>\n",
       "      <td>NaN</td>\n",
       "      <td>NaN</td>\n",
       "      <td>NaN</td>\n",
       "      <td>NaN</td>\n",
       "      <td>NaN</td>\n",
       "    </tr>\n",
       "  </tbody>\n",
       "</table>\n",
       "</div>"
      ],
      "text/plain": [
       "                               observed observed january observed february  \\\n",
       "subclass or group                                                            \n",
       "Hard substrate benthic habitat    False              NaN               NaN   \n",
       "Soft substrate benthic habitat    False              NaN               NaN   \n",
       "Particular habitat                False              NaN               NaN   \n",
       "Shallow diving birds              False              NaN               NaN   \n",
       "Medium diving birds               False              NaN               NaN   \n",
       "Deep diving birds                 False              NaN               NaN   \n",
       "Large odontocete_Mysticete        False              NaN               NaN   \n",
       "Odontoncete_dolphinds             False              NaN               NaN   \n",
       "Seals                              True             True              True   \n",
       "Fishes                            False              NaN               NaN   \n",
       "Bony fishes                       False              NaN               NaN   \n",
       "Magnetosensitive species          False              NaN               NaN   \n",
       "Electrosensitive species          False              NaN               NaN   \n",
       "Elasmobranchs                     False              NaN               NaN   \n",
       "\n",
       "                               observed march observed april observed may  \\\n",
       "subclass or group                                                           \n",
       "Hard substrate benthic habitat            NaN            NaN          NaN   \n",
       "Soft substrate benthic habitat            NaN            NaN          NaN   \n",
       "Particular habitat                        NaN            NaN          NaN   \n",
       "Shallow diving birds                      NaN            NaN          NaN   \n",
       "Medium diving birds                       NaN            NaN          NaN   \n",
       "Deep diving birds                         NaN            NaN          NaN   \n",
       "Large odontocete_Mysticete                NaN            NaN          NaN   \n",
       "Odontoncete_dolphinds                     NaN            NaN          NaN   \n",
       "Seals                                    True           True        False   \n",
       "Fishes                                    NaN            NaN          NaN   \n",
       "Bony fishes                               NaN            NaN          NaN   \n",
       "Magnetosensitive species                  NaN            NaN          NaN   \n",
       "Electrosensitive species                  NaN            NaN          NaN   \n",
       "Elasmobranchs                             NaN            NaN          NaN   \n",
       "\n",
       "                               observed june observed july observed august  \\\n",
       "subclass or group                                                            \n",
       "Hard substrate benthic habitat           NaN           NaN             NaN   \n",
       "Soft substrate benthic habitat           NaN           NaN             NaN   \n",
       "Particular habitat                       NaN           NaN             NaN   \n",
       "Shallow diving birds                     NaN           NaN             NaN   \n",
       "Medium diving birds                      NaN           NaN             NaN   \n",
       "Deep diving birds                        NaN           NaN             NaN   \n",
       "Large odontocete_Mysticete               NaN           NaN             NaN   \n",
       "Odontoncete_dolphinds                    NaN           NaN             NaN   \n",
       "Seals                                  False         False           False   \n",
       "Fishes                                   NaN           NaN             NaN   \n",
       "Bony fishes                              NaN           NaN             NaN   \n",
       "Magnetosensitive species                 NaN           NaN             NaN   \n",
       "Electrosensitive species                 NaN           NaN             NaN   \n",
       "Elasmobranchs                            NaN           NaN             NaN   \n",
       "\n",
       "                               observed september observed october  \\\n",
       "subclass or group                                                    \n",
       "Hard substrate benthic habitat                NaN              NaN   \n",
       "Soft substrate benthic habitat                NaN              NaN   \n",
       "Particular habitat                            NaN              NaN   \n",
       "Shallow diving birds                          NaN              NaN   \n",
       "Medium diving birds                           NaN              NaN   \n",
       "Deep diving birds                             NaN              NaN   \n",
       "Large odontocete_Mysticete                    NaN              NaN   \n",
       "Odontoncete_dolphinds                         NaN              NaN   \n",
       "Seals                                       False            False   \n",
       "Fishes                                        NaN              NaN   \n",
       "Bony fishes                                   NaN              NaN   \n",
       "Magnetosensitive species                      NaN              NaN   \n",
       "Electrosensitive species                      NaN              NaN   \n",
       "Elasmobranchs                                 NaN              NaN   \n",
       "\n",
       "                               observed november observed december  \n",
       "subclass or group                                                   \n",
       "Hard substrate benthic habitat               NaN               NaN  \n",
       "Soft substrate benthic habitat               NaN               NaN  \n",
       "Particular habitat                           NaN               NaN  \n",
       "Shallow diving birds                         NaN               NaN  \n",
       "Medium diving birds                          NaN               NaN  \n",
       "Deep diving birds                            NaN               NaN  \n",
       "Large odontocete_Mysticete                   NaN               NaN  \n",
       "Odontoncete_dolphinds                        NaN               NaN  \n",
       "Seals                                      False             False  \n",
       "Fishes                                       NaN               NaN  \n",
       "Bony fishes                                  NaN               NaN  \n",
       "Magnetosensitive species                     NaN               NaN  \n",
       "Electrosensitive species                     NaN               NaN  \n",
       "Elasmobranchs                                NaN               NaN  "
      ]
     },
     "execution_count": 35,
     "metadata": {},
     "output_type": "execute_result"
    }
   ],
   "source": [
    "table_path = os.path.join(test_data_dir, \"species_receptors_test.csv\")\n",
    "receptors_table = pd.read_csv(table_path, index_col=0)\n",
    "\n",
    "receptors_table"
   ]
  },
  {
   "cell_type": "markdown",
   "metadata": {},
   "source": [
    "### Set dictionaries of weightings\n",
    "\n",
    "**Note**: For weightings *None* can be used if no data is known"
   ]
  },
  {
   "cell_type": "code",
   "execution_count": 36,
   "metadata": {
    "collapsed": false,
    "scrolled": true
   },
   "outputs": [
    {
     "data": {
      "text/html": [
       "<ul><li>Energy Modification: <b>Loose sand</b></li><li>Resting Place: <b>None</b></li><li>Collision Risk: <b>None</b></li><li>Underwater Noise: <b>None</b></li><li>Turbidity: <b>None</b></li><li>Reserve Effect: <b>None</b></li><li>Reef Effect: <b>None</b></li></ul>"
      ],
      "text/plain": [
       "<IPython.core.display.HTML object>"
      ]
     },
     "execution_count": 36,
     "metadata": {},
     "output_type": "execute_result"
    }
   ],
   "source": [
    "weighting_dict = {\"Energy Modification\": \"Loose sand\",\n",
    "                  \"Collision Risk\": None,\n",
    "                  \"Turbidity\": None,\n",
    "                  \"Underwater Noise\": None,\n",
    "                  \"Reserve Effect\": None,\n",
    "                  \"Reef Effect\": None,\n",
    "                  \"Resting Place\": None}\n",
    "\n",
    "msg = html_dict(weighting_dict)\n",
    "HTML(msg)"
   ]
  },
  {
   "cell_type": "markdown",
   "metadata": {},
   "source": [
    "### Read devices positions for the test"
   ]
  },
  {
   "cell_type": "code",
   "execution_count": 37,
   "metadata": {
    "collapsed": false
   },
   "outputs": [],
   "source": [
    "f = open(os.path.join(test_data_dir,\"positions.txt\"), 'r')\n",
    "data = np.genfromtxt(f)\n",
    "x=np.zeros(50)\n",
    "y=np.zeros(50)\n",
    "\n",
    "for ii in range(0, 50):\n",
    "    datatmp=data[ii]\n",
    "    x[ii]=datatmp[0]\n",
    "    y[ii]=datatmp[1]"
   ]
  },
  {
   "cell_type": "markdown",
   "metadata": {},
   "source": [
    "### Set dictionaries of inputs"
   ]
  },
  {
   "cell_type": "code",
   "execution_count": 38,
   "metadata": {
    "collapsed": false
   },
   "outputs": [],
   "source": [
    "input_dict = {\"Energy Modification\"             : 0.3,\n",
    "              \"Coordinates of the Devices\"      : [x,y],\n",
    "              \"Size of the Devices\"             : 50.,\n",
    "              \"Immersed Height of the Devices\"  : 10.,\n",
    "              \"Water Depth\"                     : 30.,\n",
    "              \"Current Direction\"               : 45.,\n",
    "              \"Initial Turbidity\"               : 100.,\n",
    "              \"Measured Turbidity\"              : 100.,\n",
    "              \"Initial Noise dB re 1muPa\"       : 60.,\n",
    "              \"Measured Noise dB re 1muPa\"      : 70.,\n",
    "              \"Fishery Restriction Surface\"     : 600000.,\n",
    "              \"Total Surface Area\"              : 1000000.,\n",
    "              \"Number of Objects\"               : 50,\n",
    "              \"Object Emerged Surface\"          : 20.,\n",
    "              \"Surface Area of Underwater Part\" : 60.\n",
    "              }"
   ]
  },
  {
   "cell_type": "markdown",
   "metadata": {},
   "source": [
    "### Initiate the HydroStage object"
   ]
  },
  {
   "cell_type": "code",
   "execution_count": 39,
   "metadata": {
    "collapsed": true
   },
   "outputs": [],
   "source": [
    "hydro_stage = HydroStage(protected_table,\n",
    "                         receptors_table,\n",
    "                         weighting_dict)"
   ]
  },
  {
   "cell_type": "markdown",
   "metadata": {},
   "source": [
    "### Calculate the agregated scores"
   ]
  },
  {
   "cell_type": "code",
   "execution_count": 40,
   "metadata": {
    "collapsed": false,
    "scrolled": false
   },
   "outputs": [
    {
     "data": {
      "text/html": [
       "<h3>Result</h3><p>Logigram impact scores:</p> <ul><li>Energy Modification: <b>-10.0</b></li><li>Collision Risk: <b>-29.9450746269</b></li><li>Reef Effect: <b>10.0216</b></li><li>Underwater Noise: <b>-74.0</b></li><li>Turbidity: <b>-10.0</b></li><li>Reserve Effect: <b>39.2</b></li><li>Resting Place: <b>10.0072</b></li></ul><p>Logigram confidence levels:</p> <ul><li>Energy Modification: <b>2</b></li><li>Collision Risk: <b>3</b></li><li>Reef Effect: <b>3</b></li><li>Underwater Noise: <b>3</b></li><li>Turbidity: <b>2</b></li><li>Reserve Effect: <b>3</b></li><li>Resting Place: <b>3</b></li></ul><p>Logigram seasonsal scores:</p> <table border=\"1\" class=\"dataframe\">\n",
       "  <thead>\n",
       "    <tr style=\"text-align: right;\">\n",
       "      <th></th>\n",
       "      <th>january</th>\n",
       "      <th>february</th>\n",
       "      <th>march</th>\n",
       "      <th>april</th>\n",
       "      <th>may</th>\n",
       "      <th>june</th>\n",
       "      <th>july</th>\n",
       "      <th>august</th>\n",
       "      <th>september</th>\n",
       "      <th>october</th>\n",
       "      <th>november</th>\n",
       "      <th>december</th>\n",
       "    </tr>\n",
       "  </thead>\n",
       "  <tbody>\n",
       "    <tr>\n",
       "      <th>Resting Place</th>\n",
       "      <td>10.007200</td>\n",
       "      <td>10.007200</td>\n",
       "      <td>10.007200</td>\n",
       "      <td>10.007200</td>\n",
       "      <td>10.0</td>\n",
       "      <td>10.0</td>\n",
       "      <td>10.0</td>\n",
       "      <td>10.0</td>\n",
       "      <td>10.0</td>\n",
       "      <td>10.0</td>\n",
       "      <td>10.0</td>\n",
       "      <td>10.0</td>\n",
       "    </tr>\n",
       "    <tr>\n",
       "      <th>Collision Risk</th>\n",
       "      <td>-29.945075</td>\n",
       "      <td>-29.945075</td>\n",
       "      <td>-29.945075</td>\n",
       "      <td>-29.945075</td>\n",
       "      <td>-10.0</td>\n",
       "      <td>-10.0</td>\n",
       "      <td>-10.0</td>\n",
       "      <td>-10.0</td>\n",
       "      <td>-10.0</td>\n",
       "      <td>-10.0</td>\n",
       "      <td>-10.0</td>\n",
       "      <td>-10.0</td>\n",
       "    </tr>\n",
       "    <tr>\n",
       "      <th>Underwater Noise</th>\n",
       "      <td>-74.000000</td>\n",
       "      <td>-74.000000</td>\n",
       "      <td>-74.000000</td>\n",
       "      <td>-74.000000</td>\n",
       "      <td>-10.0</td>\n",
       "      <td>-10.0</td>\n",
       "      <td>-10.0</td>\n",
       "      <td>-10.0</td>\n",
       "      <td>-10.0</td>\n",
       "      <td>-10.0</td>\n",
       "      <td>-10.0</td>\n",
       "      <td>-10.0</td>\n",
       "    </tr>\n",
       "    <tr>\n",
       "      <th>Reserve Effect</th>\n",
       "      <td>39.200000</td>\n",
       "      <td>39.200000</td>\n",
       "      <td>39.200000</td>\n",
       "      <td>39.200000</td>\n",
       "      <td>10.0</td>\n",
       "      <td>10.0</td>\n",
       "      <td>10.0</td>\n",
       "      <td>10.0</td>\n",
       "      <td>10.0</td>\n",
       "      <td>10.0</td>\n",
       "      <td>10.0</td>\n",
       "      <td>10.0</td>\n",
       "    </tr>\n",
       "    <tr>\n",
       "      <th>Reef Effect</th>\n",
       "      <td>10.021600</td>\n",
       "      <td>10.021600</td>\n",
       "      <td>10.021600</td>\n",
       "      <td>10.021600</td>\n",
       "      <td>10.0</td>\n",
       "      <td>10.0</td>\n",
       "      <td>10.0</td>\n",
       "      <td>10.0</td>\n",
       "      <td>10.0</td>\n",
       "      <td>10.0</td>\n",
       "      <td>10.0</td>\n",
       "      <td>10.0</td>\n",
       "    </tr>\n",
       "  </tbody>\n",
       "</table>"
      ],
      "text/plain": [
       "<IPython.core.display.HTML object>"
      ]
     },
     "execution_count": 40,
     "metadata": {},
     "output_type": "execute_result"
    }
   ],
   "source": [
    "confidence_dict, eis_dict, recomendations_dict, seasons, global_eis = hydro_stage(input_dict)\n",
    "\n",
    "message = \"<h3>Result</h3><p>Logigram impact scores:</p> {}\".format(html_dict(eis_dict))\n",
    "message += \"<p>Logigram confidence levels:</p> {}\".format(html_dict(confidence_dict))\n",
    "message += \"<p>Logigram seasonsal scores:</p> {}\".format(seasons.to_html())\n",
    "\n",
    "HTML(message)"
   ]
  },
  {
   "cell_type": "code",
   "execution_count": null,
   "metadata": {
    "collapsed": true
   },
   "outputs": [],
   "source": []
  },
  {
   "cell_type": "code",
   "execution_count": 41,
   "metadata": {
    "collapsed": false
   },
   "outputs": [
    {
     "data": {
      "text/html": [
       "<p>Global impact scores:</p> <ul><li>Max Positive Impact: <b>39.2</b></li><li>Min Negative Impact: <b>-10.0</b></li><li>Max Negative Impact: <b>-74.0</b></li><li>Positive Impact: <b>19.7429333333</b></li><li>Negative Impact: <b>-30.9862686567</b></li><li>Min Positive Impact: <b>10.0072</b></li></ul>"
      ],
      "text/plain": [
       "<IPython.core.display.HTML object>"
      ]
     },
     "execution_count": 41,
     "metadata": {},
     "output_type": "execute_result"
    }
   ],
   "source": [
    "message = \"<p>Global impact scores:</p> {}\".format(html_dict(global_eis))\n",
    "\n",
    "HTML(message)"
   ]
  },
  {
   "cell_type": "code",
   "execution_count": 42,
   "metadata": {
    "collapsed": false
   },
   "outputs": [
    {
     "data": {
      "text/html": [
       "<p>Recomendations:</p> <ul><li>Energy Modification: <b>{'Generic Explanation': 'score results of a very high level of energy extraction', 'Detailed Recommendation': 'monitoring of the sedimentary evolution in the farm area', 'General Recommendation': 'decrease imperatively the number of devices, increase the space between device'}</b></li><li>Collision Risk: <b>{'Generic Explanation': 'score results of a very high number of devices', 'Detailed Recommendation': nan, 'General Recommendation': 'decrease imperatively the number of devices, increase the space between device'}</b></li><li>Reef Effect: <b>{'Generic Explanation': nan, 'Detailed Recommendation': nan, 'General Recommendation': nan}</b></li><li>Underwater Noise: <b>{'Generic Explanation': 'score results of the very high level of noise produced by devices', 'Detailed Recommendation': 'monitoring passive acoustics (to detect particular cavitation), use repellents bubble curtains etc, Stop the device for maintenance', 'General Recommendation': 'use specific technical to reduce imperatively the noise of devices, monotoring of the device area'}</b></li><li>Turbidity: <b>{'Generic Explanation': 'No pressure', 'Detailed Recommendation': nan, 'General Recommendation': nan}</b></li><li>Reserve Effect: <b>{'Generic Explanation': nan, 'Detailed Recommendation': nan, 'General Recommendation': nan}</b></li><li>Resting Place: <b>{'Generic Explanation': nan, 'Detailed Recommendation': nan, 'General Recommendation': nan}</b></li></ul>"
      ],
      "text/plain": [
       "<IPython.core.display.HTML object>"
      ]
     },
     "execution_count": 42,
     "metadata": {},
     "output_type": "execute_result"
    }
   ],
   "source": [
    "message = \"<p>Recomendations:</p> {}\".format(html_dict(recomendations_dict))\n",
    "\n",
    "HTML(message)"
   ]
  },
  {
   "cell_type": "code",
   "execution_count": null,
   "metadata": {
    "collapsed": true
   },
   "outputs": [],
   "source": []
  },
  {
   "cell_type": "code",
   "execution_count": 43,
   "metadata": {
    "collapsed": false
   },
   "outputs": [
    {
     "data": {
      "image/png": "[encoded data removed]",
      "text/plain": [
       "<matplotlib.figure.Figure at 0xbae6128>"
      ]
     },
     "metadata": {},
     "output_type": "display_data"
    }
   ],
   "source": [
    "plot_score(eis_dict, 'Hydrodynamics')"
   ]
  },
  {
   "cell_type": "code",
   "execution_count": null,
   "metadata": {
    "collapsed": true
   },
   "outputs": [],
   "source": []
  },
  {
   "cell_type": "code",
   "execution_count": 44,
   "metadata": {
    "collapsed": false
   },
   "outputs": [
    {
     "data": {
      "image/png": "[encoded data removed]",
      "text/plain": [
       "<matplotlib.figure.Figure at 0xbae62b0>"
      ]
     },
     "metadata": {},
     "output_type": "display_data"
    }
   ],
   "source": [
    "plot_global(global_eis)"
   ]
  },
  {
   "cell_type": "code",
   "execution_count": null,
   "metadata": {
    "collapsed": true
   },
   "outputs": [],
   "source": []
  }
 ],
 "metadata": {
  "kernelspec": {
   "display_name": "Python 2",
   "language": "python",
   "name": "python2"
  },
  "language_info": {
   "codemirror_mode": {
    "name": "ipython",
    "version": 2
   },
   "file_extension": ".py",
   "mimetype": "text/x-python",
   "name": "python",
   "nbconvert_exporter": "python",
   "pygments_lexer": "ipython2",
   "version": "2.7.12"
  }
 },
 "nbformat": 4,
 "nbformat_minor": 0
}
