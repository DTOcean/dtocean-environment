{
 "cells": [
  {
   "cell_type": "code",
   "execution_count": null,
   "metadata": {},
   "outputs": [],
   "source": [
    "%matplotlib inline"
   ]
  },
  {
   "cell_type": "markdown",
   "metadata": {},
   "source": [
    "# DTOcean Environmental Module Test - Hydrodynamics\n",
    "\n",
    "## Import Modules\n",
    "\n",
    "We need not only the environmental module but the pandas package to enter the data tables."
   ]
  },
  {
   "cell_type": "code",
   "execution_count": null,
   "metadata": {},
   "outputs": [],
   "source": [
    "from IPython.core.display import HTML"
   ]
  },
  {
   "cell_type": "code",
   "execution_count": null,
   "metadata": {},
   "outputs": [],
   "source": [
    "import matplotlib\n",
    "import matplotlib.pylab as plt\n",
    "import matplotlib.cm as cm\n",
    "matplotlib.style.use('ggplot')\n",
    "plt.rcParams['figure.figsize'] = (14.0, 8.0)"
   ]
  },
  {
   "cell_type": "code",
   "execution_count": null,
   "metadata": {},
   "outputs": [],
   "source": [
    "import os\n",
    "import sys\n",
    "import pandas as pd\n",
    "import numpy as np"
   ]
  },
  {
   "cell_type": "code",
   "execution_count": null,
   "metadata": {},
   "outputs": [],
   "source": [
    "from dtocean_environment.impacts import *\n",
    "from dtocean_environment.main import HydroStage"
   ]
  },
  {
   "cell_type": "code",
   "execution_count": null,
   "metadata": {},
   "outputs": [],
   "source": [
    "def html_dict(x):\n",
    "    message = \"<ul>\"\n",
    "    for name, status in x.iteritems():\n",
    "        message += \"<li>{}: <b>{}</b></li>\".format(name, status)\n",
    "    message += \"</ul>\"\n",
    "    return message"
   ]
  },
  {
   "cell_type": "code",
   "execution_count": null,
   "metadata": {},
   "outputs": [],
   "source": [
    "def cmap_env(position=None, bit=True):\n",
    "    '''Colormap for the environmental package\n",
    "    '''\n",
    "    colors = [(128,0,128), (255,0,255), (255,0,0), (255,64,0), (255,128,0),\n",
    "              (255,178,102), (255,255,51), (153,255,153), (255,255,255),\n",
    "              (204,229,255), (102,178,255), (0,128,255),  (0,0,255)]\n",
    "\n",
    "    bit_rgb = np.linspace(0,1,256)\n",
    "    if position == None:\n",
    "        position = np.linspace(0,1,len(colors))\n",
    "    else:\n",
    "        if len(position) != len(colors):\n",
    "            sys.exit(\"position length must be the same as colors\")\n",
    "        elif position[0] != 0 or position[-1] != 1:\n",
    "            sys.exit(\"position must start with 0 and end with 1\")\n",
    "    if bit:\n",
    "        for i in range(len(colors)):\n",
    "            colors[i] = (bit_rgb[colors[i][0]],\n",
    "                         bit_rgb[colors[i][1]],\n",
    "                         bit_rgb[colors[i][2]])\n",
    "    cdict = {'red':[], 'green':[], 'blue':[]}\n",
    "    for pos, color in zip(position, colors):\n",
    "        cdict['red'].append((pos, color[0], color[0]))\n",
    "        cdict['green'].append((pos, color[1], color[1]))\n",
    "        cdict['blue'].append((pos, color[2], color[2]))\n",
    "    \n",
    "    cmap = matplotlib.colors.LinearSegmentedColormap('environment', cdict, 256)\n",
    "    return cmap\n"
   ]
  },
  {
   "cell_type": "code",
   "execution_count": null,
   "metadata": {},
   "outputs": [],
   "source": [
    "def plot_score(eis, title):\n",
    "\n",
    "    # Environmental impacts\n",
    "    \n",
    "    env_impacts = [\"Energy Modification\",\n",
    "                   \"Footprint\",\n",
    "                   \"Collision Risk\",\n",
    "                   \"Collision Risk Vessel\",\n",
    "                   \"Chemical Pollution\",\n",
    "                   \"Turbidity\",\n",
    "                   \"Underwater Noise\",\n",
    "                   \"Electric Fields\",\n",
    "                   \"Magnetic Fields\",\n",
    "                   \"Temperature Modification\",\n",
    "                   \"Reef Effect\",\n",
    "                   \"Reserve Effect\",\n",
    "                   \"Resting Place\"]\n",
    "    \n",
    "    value=[]\n",
    "    impact=[]\n",
    "    confidence=[]\n",
    "    \n",
    "    for key in env_impacts:\n",
    "        if key in eis_dict and eis_dict[key] is not None:\n",
    "            value.append(eis_dict[key])\n",
    "            impact.append(key)\n",
    "            confidence.append(confidence_dict[key])\n",
    "        else:\n",
    "            value.append(0)\n",
    "            impact.append(key)\n",
    "            confidence.append(0)\n",
    "\n",
    "    ## if we want to sort the values\n",
    "    ##value, impact, confidence = zip(*sorted(zip(value, impact, confidence)))\n",
    "\n",
    "    env_cmap = cmap_env()\n",
    "    norm = matplotlib.colors.Normalize(-100, 50)\n",
    "    env_color = env_cmap(norm(value))\n",
    "    \n",
    "    fig = plt.figure()\n",
    "\n",
    "    ax1 = fig.add_subplot(1,1,1)\n",
    "    x = np.arange(len(value))\n",
    "    ax1.barh(x, value, align='center', color = env_color)\n",
    "    ax1.set_xticklabels([])\n",
    "    ax1.set_yticks(x)\n",
    "    ax1.set_yticklabels(impact)\n",
    "    ax1.axvline(0, color='grey')\n",
    "\n",
    "    for i,v in zip(x, value):\n",
    "        if v < 0:\n",
    "            ax1.text(v - 4., i + 0.15 , str(int(round(v))), color = 'black', weight = 'bold')\n",
    "        elif v > 0:\n",
    "            ax1.text(v + 1., i + 0.15 , str(int(round(v))), color = 'black', weight = 'bold')\n",
    "    \n",
    "    plt.gca().invert_yaxis()\n",
    "    #plt.grid()\n",
    "    cmmapable = cm.ScalarMappable(norm, env_cmap)\n",
    "    cmmapable.set_array(range(-100, 50))\n",
    "    plt.colorbar(cmmapable, orientation='horizontal')\n",
    "    plt.xlabel('Environmental Score')\n",
    "\n",
    "    ax2 = ax1.twinx()\n",
    "    ax2.barh(x, np.zeros(len(x)), align='center')\n",
    "    ax2.yaxis.tick_right()\n",
    "    ax2.set_yticks(x)\n",
    "    ax2.set_yticklabels(confidence)\n",
    "    ax2.set_ylabel('Level of confidence')\n",
    "    \n",
    "    plt.xlim([-100,50])\n",
    "    plt.title(title)\n",
    "    \n",
    "    plt.show()"
   ]
  },
  {
   "cell_type": "code",
   "execution_count": null,
   "metadata": {},
   "outputs": [],
   "source": [
    "def plot_global(geis):\n",
    "\n",
    "    fig = plt.figure()\n",
    "\n",
    "    ax1 = fig.add_subplot(1,1,1)\n",
    "\n",
    "    plt.title('Global Score')\n",
    "    \n",
    "    plt.show()"
   ]
  },
  {
   "cell_type": "markdown",
   "metadata": {},
   "source": [
    "### Define path to data"
   ]
  },
  {
   "cell_type": "code",
   "execution_count": null,
   "metadata": {},
   "outputs": [],
   "source": [
    "data_dir = \"../dtocean_environment/data/hydrodynamics\"\n",
    "test_data_dir = \"test_data\""
   ]
  },
  {
   "cell_type": "markdown",
   "metadata": {},
   "source": [
    "### Define the protected species table"
   ]
  },
  {
   "cell_type": "code",
   "execution_count": null,
   "metadata": {},
   "outputs": [],
   "source": [
    "table_path = os.path.join(test_data_dir, \"species_protected.csv\")\n",
    "protected_table = pd.read_csv(table_path, index_col=0)\n",
    "\n",
    "protected_table"
   ]
  },
  {
   "cell_type": "markdown",
   "metadata": {},
   "source": [
    "### Define the table of receptor impact data"
   ]
  },
  {
   "cell_type": "code",
   "execution_count": null,
   "metadata": {
    "scrolled": true
   },
   "outputs": [],
   "source": [
    "table_path = os.path.join(test_data_dir, \"species_receptors.csv\")\n",
    "receptors_table = pd.read_csv(table_path, index_col=0)\n",
    "\n",
    "receptors_table"
   ]
  },
  {
   "cell_type": "markdown",
   "metadata": {},
   "source": [
    "### Set dictionaries of weightings\n",
    "\n",
    "**Note**: For weightings *None* can be used if no data is known"
   ]
  },
  {
   "cell_type": "code",
   "execution_count": null,
   "metadata": {
    "scrolled": true
   },
   "outputs": [],
   "source": [
    "weighting_dict = {\"Energy Modification\": \"Loose sand\",\n",
    "                  \"Collision Risk\": None,\n",
    "                  \"Turbidity\": None,\n",
    "                  \"Underwater Noise\": None,\n",
    "                  \"Reserve Effect\": None,\n",
    "                  \"Reef Effect\": None,\n",
    "                  \"Resting Place\": None}\n",
    "\n",
    "msg = html_dict(weighting_dict)\n",
    "HTML(msg)"
   ]
  },
  {
   "cell_type": "markdown",
   "metadata": {},
   "source": [
    "### Read devices positions for the test"
   ]
  },
  {
   "cell_type": "code",
   "execution_count": null,
   "metadata": {},
   "outputs": [],
   "source": [
    "f = open(os.path.join(test_data_dir,\"positions.txt\"), 'r')\n",
    "data = np.genfromtxt(f)\n",
    "x=np.zeros(50)\n",
    "y=np.zeros(50)\n",
    "\n",
    "for ii in range(0, 50):\n",
    "    datatmp=data[ii]\n",
    "    x[ii]=datatmp[0]\n",
    "    y[ii]=datatmp[1]"
   ]
  },
  {
   "cell_type": "markdown",
   "metadata": {},
   "source": [
    "### Set dictionaries of inputs"
   ]
  },
  {
   "cell_type": "code",
   "execution_count": null,
   "metadata": {},
   "outputs": [],
   "source": [
    "input_dict = {\"Energy Modification\"             : 0.3,\n",
    "              \"Coordinates of the Devices\"      : [x,y],\n",
    "              \"Size of the Devices\"             : 50.,\n",
    "              \"Immersed Height of the Devices\"  : 10.,\n",
    "              \"Water Depth\"                     : 30.,\n",
    "              \"Current Direction\"               : 45.,\n",
    "              \"Initial Turbidity\"               : 100.,\n",
    "              \"Measured Turbidity\"              : 100.,\n",
    "              \"Initial Noise dB re 1muPa\"       : 60.,\n",
    "              \"Measured Noise dB re 1muPa\"      : 70.,\n",
    "              \"Fishery Restriction Surface\"     : 600000.,\n",
    "              \"Total Surface Area\"              : 1000000.,\n",
    "              \"Number of Objects\"               : 50,\n",
    "              \"Object Emerged Surface\"          : 20.,\n",
    "              \"Surface Area of Underwater Part\" : 60.\n",
    "              }"
   ]
  },
  {
   "cell_type": "markdown",
   "metadata": {},
   "source": [
    "### Initiate the HydroStage object"
   ]
  },
  {
   "cell_type": "code",
   "execution_count": null,
   "metadata": {},
   "outputs": [],
   "source": [
    "hydro_stage = HydroStage(protected_table,\n",
    "                         receptors_table,\n",
    "                         weighting_dict)"
   ]
  },
  {
   "cell_type": "markdown",
   "metadata": {},
   "source": [
    "### Calculate the agregated scores"
   ]
  },
  {
   "cell_type": "code",
   "execution_count": null,
   "metadata": {
    "scrolled": false
   },
   "outputs": [],
   "source": [
    "confidence_dict, eis_dict, recomendations_dict, seasons, global_eis = hydro_stage(input_dict)\n",
    "\n",
    "message = \"<h3>Result</h3><p>Logigram impact scores:</p> {}\".format(html_dict(eis_dict))\n",
    "message += \"<p>Logigram confidence levels:</p> {}\".format(html_dict(confidence_dict))\n",
    "message += \"<p>Logigram seasonsal scores:</p> {}\".format(seasons.to_html())\n",
    "\n",
    "HTML(message)"
   ]
  },
  {
   "cell_type": "code",
   "execution_count": null,
   "metadata": {},
   "outputs": [],
   "source": [
    "message = \"<p>Global impact scores:</p> {}\".format(html_dict(global_eis))\n",
    "\n",
    "HTML(message)"
   ]
  },
  {
   "cell_type": "code",
   "execution_count": null,
   "metadata": {},
   "outputs": [],
   "source": [
    "message = \"<p>Recomendations:</p> {}\".format(html_dict(recomendations_dict))\n",
    "\n",
    "HTML(message)"
   ]
  },
  {
   "cell_type": "code",
   "execution_count": null,
   "metadata": {},
   "outputs": [],
   "source": [
    "plot_score(eis_dict, 'Hydrodynamics')"
   ]
  },
  {
   "cell_type": "code",
   "execution_count": null,
   "metadata": {},
   "outputs": [],
   "source": [
    "plot_global(global_eis)"
   ]
  },
  {
   "cell_type": "code",
   "execution_count": null,
   "metadata": {},
   "outputs": [],
   "source": []
  }
 ],
 "metadata": {
  "kernelspec": {
   "display_name": "Python 2",
   "language": "python",
   "name": "python2"
  },
  "language_info": {
   "codemirror_mode": {
    "name": "ipython",
    "version": 2
   },
   "file_extension": ".py",
   "mimetype": "text/x-python",
   "name": "python",
   "nbconvert_exporter": "python",
   "pygments_lexer": "ipython2",
   "version": "2.7.15"
  }
 },
 "nbformat": 4,
 "nbformat_minor": 1
}
